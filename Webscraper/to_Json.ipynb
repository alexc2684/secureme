{
 "cells": [
  {
   "cell_type": "code",
   "execution_count": 2,
   "metadata": {},
   "outputs": [],
   "source": [
    "import numpy as np\n",
    "import pandas as pd\n",
    "find=[\"whatsapp2\",\"facebook2\",\"android2\",\"ios2\",\"gmail2\", \"cryptocurrency2\", \"chrome2\", \"instagram2\",\"firefox2\",\"youtube2\",\"windows2\",\"mac2\",\"linux2\"]\n",
    "for i in range(len(find)):\n",
    "    df=pd.read_csv(\"{}.csv\".format(find[i]))\n",
    "    df.to_json(orient='index')\n",
    "    df.to_json(\"{}.JSON\".format(find[i]))"
   ]
  },
  {
   "cell_type": "code",
   "execution_count": null,
   "metadata": {},
   "outputs": [],
   "source": []
  }
 ],
 "metadata": {
  "kernelspec": {
   "display_name": "Python 3",
   "language": "python",
   "name": "python3"
  },
  "language_info": {
   "codemirror_mode": {
    "name": "ipython",
    "version": 3
   },
   "file_extension": ".py",
   "mimetype": "text/x-python",
   "name": "python",
   "nbconvert_exporter": "python",
   "pygments_lexer": "ipython3",
   "version": "3.6.4"
  }
 },
 "nbformat": 4,
 "nbformat_minor": 2
}
